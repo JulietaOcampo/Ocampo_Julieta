{
 "cells": [
  {
   "cell_type": "markdown",
   "id": "a318cdd4",
   "metadata": {},
   "source": [
    "# Question 1 \n",
    "My favourite data science blog is [Simply Statistics](https://simplystatistics.org/). Check it out.\n"
   ]
  },
  {
   "cell_type": "markdown",
   "id": "a37ce7f4",
   "metadata": {},
   "source": [
    "<img src=\"./images/SimplyStats.PNG\"/>"
   ]
  },
  {
   "cell_type": "markdown",
   "id": "5e4c08e1",
   "metadata": {},
   "source": [
    "# Question 2"
   ]
  },
  {
   "cell_type": "markdown",
   "id": "2b586342",
   "metadata": {},
   "source": [
    ">*It is a serious thing*  \n",
    "*Just to be alive*  \n",
    "*on this fresh morning*  \n",
    "*in this broken world*  \n",
    "\n",
    "Marie Oliver"
   ]
  },
  {
   "cell_type": "markdown",
   "id": "d99dbf76",
   "metadata": {},
   "source": [
    "# Question 3 - Without numpy"
   ]
  },
  {
   "cell_type": "code",
   "execution_count": 46,
   "id": "77b0d195",
   "metadata": {},
   "outputs": [
    {
     "name": "stdout",
     "output_type": "stream",
     "text": [
      "1009000000\n"
     ]
    },
    {
     "data": {
      "image/png": "[encoded data removed]",
      "text/plain": [
       "<Figure size 432x288 with 1 Axes>"
      ]
     },
     "metadata": {
      "needs_background": "light"
     },
     "output_type": "display_data"
    }
   ],
   "source": [
    "    import matplotlib.pyplot as plt\n",
    "    \n",
    "    # non-linear Function: y= x^3+ 3x^2 \n",
    "    def myfirstfuction(x): \n",
    "        y = x**3 + (3*x)**2\n",
    "        return y\n",
    "    \n",
    "    # x-axis values\n",
    "    series_x = [0, 25, 45, 78, 90, 100, 500, 860, 1000]\n",
    " \n",
    "    # Y-axis values calculated manually.\n",
    "    series_y = [0, 21250, 109350, 529308, 801900, 1090000, 127250000, 642712400, 1009000000]\n",
    "    \n",
    "    # Using Matplotlib to draw plot\n",
    "    \n",
    "    # Function to plot\n",
    "    plt.plot(series_x, series_y)\n",
    "    \n",
    "    # Adding Title\n",
    "    plt.title(\"Random non-linear plot\")\n",
    "    \n",
    "    # Labeling the axes\n",
    "    plt.xlabel(\"X\")\n",
    "    plt.ylabel(\"Y\")\n",
    "\n",
    "    # function to show the plot\n",
    "    plt.show()\n",
    "    "
   ]
  },
  {
   "cell_type": "markdown",
   "id": "289264d2",
   "metadata": {},
   "source": [
    "# Question 3 with numpy"
   ]
  },
  {
   "cell_type": "code",
   "execution_count": 60,
   "id": "752d250c",
   "metadata": {},
   "outputs": [
    {
     "data": {
      "image/png": "[encoded data removed]",
      "text/plain": [
       "<Figure size 432x288 with 1 Axes>"
      ]
     },
     "metadata": {
      "needs_background": "light"
     },
     "output_type": "display_data"
    }
   ],
   "source": [
    "    import matplotlib.pyplot as plt\n",
    "    import numpy as np\n",
    "\n",
    "    # non-linear Function: y= x^3+ 3x^2 \n",
    "    def myfirstfunction(x): \n",
    "        y = x**3 + (3*x)**2\n",
    "        return y\n",
    "    \n",
    "    series_x = np.array([0, 25, 45, 78, 90, 100, 500, 860, 1000])\n",
    "    \n",
    "    # Y-axis values calculated using numpy.\n",
    "    series_y = myfirstfunction(series_x)\n",
    "    \n",
    "    # Using Matplotlib to draw function\n",
    "    \n",
    "    # Function to plot\n",
    "    plt.plot(series_x, series_y)\n",
    "    \n",
    "    # Adding Title\n",
    "    plt.title(\"Random non-linear plot\")\n",
    "    \n",
    "    # Labeling the axes\n",
    "    plt.xlabel(\"X\")\n",
    "    plt.ylabel(\"Y\")\n",
    "\n",
    "    # function to show the plot\n",
    "    plt.show()\n",
    "    \n",
    "    "
   ]
  },
  {
   "cell_type": "markdown",
   "id": "96da2914",
   "metadata": {},
   "source": [
    "# Question 4"
   ]
  },
  {
   "cell_type": "markdown",
   "id": "f91b060e",
   "metadata": {},
   "source": [
    "\n",
    "\n",
    "| Package Name| Stars in Github |\n",
    "| ----------- | -----------     |\n",
    "|Pandas       | 35.2k           |\n",
    "|Matplotlib   | 16.1k           |\n",
    "|Scipy        | 10.2k           |\n",
    "|Keras        | 1.9k            |\n",
    "|SciKit-Learn | 2.2k            |"
   ]
  },
  {
   "cell_type": "markdown",
   "id": "a4be4eb6",
   "metadata": {},
   "source": [
    "# Question 5"
   ]
  },
  {
   "cell_type": "code",
   "execution_count": 86,
   "id": "c3ad46ee",
   "metadata": {},
   "outputs": [
    {
     "name": "stdout",
     "output_type": "stream",
     "text": [
      "/Users/Julieta/Desktop/QMSS/MDS/Ocampo_Julieta\n"
     ]
    }
   ],
   "source": [
    "from pathlib import Path\n",
    "print(Path.cwd())\n"
   ]
  },
  {
   "cell_type": "markdown",
   "id": "360fd2b0",
   "metadata": {},
   "source": [
    "# Question 6"
   ]
  },
  {
   "cell_type": "code",
   "execution_count": 90,
   "id": "862be94f",
   "metadata": {},
   "outputs": [
    {
     "name": "stdout",
     "output_type": "stream",
     "text": [
      "the answer is 42\n",
      "the answer is 42\n"
     ]
    }
   ],
   "source": [
    "import os\n",
    "\n",
    "filepath='/Users/Julieta/Desktop/QMSS/MDS/Ocampo_Julieta' \n",
    "os.chdir(filepath)\n",
    "\n",
    "%run small_script.py\n",
    "%run '/Users/Julieta/Desktop/QMSS/MDS/Ocampo_Julieta/small_script.py'\n"
   ]
  }
 ],
 "metadata": {
  "kernelspec": {
   "display_name": "Python 3 (ipykernel)",
   "language": "python",
   "name": "python3"
  },
  "language_info": {
   "codemirror_mode": {
    "name": "ipython",
    "version": 3
   },
   "file_extension": ".py",
   "mimetype": "text/x-python",
   "name": "python",
   "nbconvert_exporter": "python",
   "pygments_lexer": "ipython3",
   "version": "3.9.12"
  }
 },
 "nbformat": 4,
 "nbformat_minor": 5
}
