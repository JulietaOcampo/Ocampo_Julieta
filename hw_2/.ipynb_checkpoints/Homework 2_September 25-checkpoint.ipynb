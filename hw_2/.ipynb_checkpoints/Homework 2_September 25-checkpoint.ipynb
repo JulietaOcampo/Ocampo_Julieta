{
 "cells": [
  {
   "cell_type": "code",
   "execution_count": 2,
   "id": "5c79045f",
   "metadata": {},
   "outputs": [],
   "source": [
    "import pandas as pd\n",
    "import numpy as np\n",
    "\n",
    "peaks_data = pd.read_csv(\"./data/peaks.csv\")\n",
    "expe_data = pd.read_csv(\"./data/expeditions.csv\")\n",
    "memb_data = pd.read_csv(\"./data/members.csv\")\n"
   ]
  },
  {
   "cell_type": "markdown",
   "id": "6ffcaf92",
   "metadata": {},
   "source": [
    "# 1. Peaks"
   ]
  },
  {
   "cell_type": "code",
   "execution_count": 4,
   "id": "b331cc8e",
   "metadata": {},
   "outputs": [
    {
     "data": {
      "text/plain": [
       "Climbed      0.728632\n",
       "Unclimbed    0.271368\n",
       "Name: climbing_status, dtype: float64"
      ]
     },
     "execution_count": 4,
     "metadata": {},
     "output_type": "execute_result"
    }
   ],
   "source": [
    "#Finding the proportion of peaks unclimbed \n",
    "import pandas as pd\n",
    "peaks_data = pd.read_csv(\"./data/peaks.csv\")\n",
    "peaks_data[\"climbing_status\"].value_counts(normalize=True)"
   ]
  },
  {
   "cell_type": "markdown",
   "id": "2aa9e341",
   "metadata": {},
   "source": [
    "Answer 1.a) The proportion of unclimbed peaks is 27.13%"
   ]
  },
  {
   "cell_type": "code",
   "execution_count": 5,
   "id": "67ef1da2",
   "metadata": {},
   "outputs": [
    {
     "data": {
      "text/plain": [
       "6706.284457478006"
      ]
     },
     "execution_count": 5,
     "metadata": {},
     "output_type": "execute_result"
    }
   ],
   "source": [
    "#Finding the average height in meters of climbed peaks\n",
    "climbed_peaks = peaks_data[peaks_data[\"climbing_status\"] == \"Climbed\"]\n",
    "unclimbed_peaks = peaks_data [peaks_data[\"climbing_status\"] == \"Unclimbed\"]\n",
    "climbed_peaks[\"height_metres\"].mean()"
   ]
  },
  {
   "cell_type": "code",
   "execution_count": 63,
   "id": "a2fc1c7d",
   "metadata": {},
   "outputs": [
    {
     "data": {
      "text/plain": [
       "6523.330708661418"
      ]
     },
     "execution_count": 63,
     "metadata": {},
     "output_type": "execute_result"
    }
   ],
   "source": [
    "#Finding the average height of unclimbed peaks\n",
    "unclimbed_peaks[\"height_metres\"].mean()"
   ]
  },
  {
   "cell_type": "markdown",
   "id": "086d2c18",
   "metadata": {},
   "source": [
    "Answer 1.b) The average height in meters of climbed peaks is 6,706\n",
    "            The average height in meters of unclimbed peaks is 6,523"
   ]
  },
  {
   "cell_type": "markdown",
   "id": "c3340067",
   "metadata": {},
   "source": [
    "# 2. Sherpas"
   ]
  },
  {
   "cell_type": "code",
   "execution_count": 8,
   "id": "72ea0f75",
   "metadata": {},
   "outputs": [
    {
     "data": {
      "text/plain": [
       "True     0.934056\n",
       "False    0.065944\n",
       "Name: hired, dtype: float64"
      ]
     },
     "execution_count": 8,
     "metadata": {},
     "output_type": "execute_result"
    }
   ],
   "source": [
    "#Finding the proportion of Nepalese hired\n",
    "import pandas as pd\n",
    "memb_data = pd.read_csv(\"./data/members.csv\")\n",
    "\n",
    "memb_data_Nepalese = memb_data[memb_data[\"citizenship\"] == \"Nepal\"] \n",
    "memb_data_Nepalese[\"hired\"].value_counts(normalize=True)"
   ]
  },
  {
   "cell_type": "markdown",
   "id": "2e9bb095",
   "metadata": {},
   "source": [
    "Answer 2.a) The proportion of Nepalese hired for the expedition is 93.40%"
   ]
  },
  {
   "cell_type": "code",
   "execution_count": 11,
   "id": "e1d86709",
   "metadata": {},
   "outputs": [
    {
     "data": {
      "text/plain": [
       "12.0"
      ]
     },
     "execution_count": 11,
     "metadata": {},
     "output_type": "execute_result"
    }
   ],
   "source": [
    "memb_data_Nepalese[\"age\"].min()"
   ]
  },
  {
   "cell_type": "code",
   "execution_count": 10,
   "id": "9ddd112f",
   "metadata": {},
   "outputs": [
    {
     "data": {
      "text/plain": [
       "85.0"
      ]
     },
     "execution_count": 10,
     "metadata": {},
     "output_type": "execute_result"
    }
   ],
   "source": [
    "memb_data_Nepalese[\"age\"].max()"
   ]
  },
  {
   "cell_type": "code",
   "execution_count": 98,
   "id": "c926eb3c",
   "metadata": {},
   "outputs": [
    {
     "data": {
      "text/plain": [
       "32.88506226953315"
      ]
     },
     "execution_count": 98,
     "metadata": {},
     "output_type": "execute_result"
    }
   ],
   "source": [
    "memb_data_Nepalese[\"age\"].mean()"
   ]
  },
  {
   "cell_type": "markdown",
   "id": "f1643069",
   "metadata": {},
   "source": [
    "Answer 2.b) The minumin age of Nepalese citizens in the \"members\" dataset is 12 Years old, the maximum age is 85 years old and the average age is 32.88 years old. "
   ]
  },
  {
   "cell_type": "markdown",
   "id": "2cfe930a",
   "metadata": {},
   "source": [
    "# 3. Gender"
   ]
  },
  {
   "cell_type": "code",
   "execution_count": 13,
   "id": "17e3e70d",
   "metadata": {},
   "outputs": [],
   "source": [
    "#Join the data sets\n",
    "import pandas as pd \n",
    "expe_data = pd.read_csv(\"./data/expeditions.csv\")\n",
    "\n",
    "ev_join = peaks_data.merge(expe_data, left_on = \"peak_id\", right_on = \"peak_id\").merge(memb_data, left_on = \"expedition_id\", right_on = \"expedition_id\")\n",
    "nonhired = ev_join[ev_join[\"hired\"] ==False]"
   ]
  },
  {
   "cell_type": "markdown",
   "id": "feaeb8d1",
   "metadata": {},
   "source": [
    "Answer 3.a "
   ]
  },
  {
   "cell_type": "code",
   "execution_count": 13,
   "id": "acc5fdd8",
   "metadata": {},
   "outputs": [
    {
     "data": {
      "text/html": [
       "<div>\n",
       "<style scoped>\n",
       "    .dataframe tbody tr th:only-of-type {\n",
       "        vertical-align: middle;\n",
       "    }\n",
       "\n",
       "    .dataframe tbody tr th {\n",
       "        vertical-align: top;\n",
       "    }\n",
       "\n",
       "    .dataframe thead th {\n",
       "        text-align: right;\n",
       "    }\n",
       "</style>\n",
       "<table border=\"1\" class=\"dataframe\">\n",
       "  <thead>\n",
       "    <tr style=\"text-align: right;\">\n",
       "      <th></th>\n",
       "      <th>peak_id_x</th>\n",
       "      <th>peak_name_x</th>\n",
       "      <th>peak_alternative_name</th>\n",
       "      <th>height_metres</th>\n",
       "      <th>climbing_status</th>\n",
       "      <th>first_ascent_year</th>\n",
       "      <th>first_ascent_country</th>\n",
       "      <th>first_ascent_expedition_id</th>\n",
       "      <th>expedition_id</th>\n",
       "      <th>peak_name_y</th>\n",
       "      <th>...</th>\n",
       "      <th>highpoint_metres_y</th>\n",
       "      <th>success</th>\n",
       "      <th>solo</th>\n",
       "      <th>oxygen_used_y</th>\n",
       "      <th>died</th>\n",
       "      <th>death_cause</th>\n",
       "      <th>death_height_metres</th>\n",
       "      <th>injured</th>\n",
       "      <th>injury_type</th>\n",
       "      <th>injury_height_metres</th>\n",
       "    </tr>\n",
       "  </thead>\n",
       "  <tbody>\n",
       "    <tr>\n",
       "      <th>24</th>\n",
       "      <td>AMAD</td>\n",
       "      <td>Ama Dablam</td>\n",
       "      <td>Amai Dablang</td>\n",
       "      <td>6814</td>\n",
       "      <td>Climbed</td>\n",
       "      <td>1961.0</td>\n",
       "      <td>New Zealand, USA, UK</td>\n",
       "      <td>AMAD61101</td>\n",
       "      <td>AMAD88402</td>\n",
       "      <td>Ama Dablam</td>\n",
       "      <td>...</td>\n",
       "      <td>6814.0</td>\n",
       "      <td>True</td>\n",
       "      <td>False</td>\n",
       "      <td>False</td>\n",
       "      <td>False</td>\n",
       "      <td>NaN</td>\n",
       "      <td>NaN</td>\n",
       "      <td>False</td>\n",
       "      <td>NaN</td>\n",
       "      <td>NaN</td>\n",
       "    </tr>\n",
       "    <tr>\n",
       "      <th>34</th>\n",
       "      <td>AMAD</td>\n",
       "      <td>Ama Dablam</td>\n",
       "      <td>Amai Dablang</td>\n",
       "      <td>6814</td>\n",
       "      <td>Climbed</td>\n",
       "      <td>1961.0</td>\n",
       "      <td>New Zealand, USA, UK</td>\n",
       "      <td>AMAD61101</td>\n",
       "      <td>AMAD83301</td>\n",
       "      <td>Ama Dablam</td>\n",
       "      <td>...</td>\n",
       "      <td>6814.0</td>\n",
       "      <td>True</td>\n",
       "      <td>False</td>\n",
       "      <td>False</td>\n",
       "      <td>False</td>\n",
       "      <td>NaN</td>\n",
       "      <td>NaN</td>\n",
       "      <td>False</td>\n",
       "      <td>NaN</td>\n",
       "      <td>NaN</td>\n",
       "    </tr>\n",
       "    <tr>\n",
       "      <th>45</th>\n",
       "      <td>AMAD</td>\n",
       "      <td>Ama Dablam</td>\n",
       "      <td>Amai Dablang</td>\n",
       "      <td>6814</td>\n",
       "      <td>Climbed</td>\n",
       "      <td>1961.0</td>\n",
       "      <td>New Zealand, USA, UK</td>\n",
       "      <td>AMAD61101</td>\n",
       "      <td>AMAD83301</td>\n",
       "      <td>Ama Dablam</td>\n",
       "      <td>...</td>\n",
       "      <td>6814.0</td>\n",
       "      <td>True</td>\n",
       "      <td>False</td>\n",
       "      <td>False</td>\n",
       "      <td>False</td>\n",
       "      <td>NaN</td>\n",
       "      <td>NaN</td>\n",
       "      <td>False</td>\n",
       "      <td>NaN</td>\n",
       "      <td>NaN</td>\n",
       "    </tr>\n",
       "    <tr>\n",
       "      <th>61</th>\n",
       "      <td>AMAD</td>\n",
       "      <td>Ama Dablam</td>\n",
       "      <td>Amai Dablang</td>\n",
       "      <td>6814</td>\n",
       "      <td>Climbed</td>\n",
       "      <td>1961.0</td>\n",
       "      <td>New Zealand, USA, UK</td>\n",
       "      <td>AMAD61101</td>\n",
       "      <td>AMAD83302</td>\n",
       "      <td>Ama Dablam</td>\n",
       "      <td>...</td>\n",
       "      <td>6814.0</td>\n",
       "      <td>True</td>\n",
       "      <td>False</td>\n",
       "      <td>False</td>\n",
       "      <td>False</td>\n",
       "      <td>NaN</td>\n",
       "      <td>NaN</td>\n",
       "      <td>False</td>\n",
       "      <td>NaN</td>\n",
       "      <td>NaN</td>\n",
       "    </tr>\n",
       "    <tr>\n",
       "      <th>177</th>\n",
       "      <td>AMAD</td>\n",
       "      <td>Ama Dablam</td>\n",
       "      <td>Amai Dablang</td>\n",
       "      <td>6814</td>\n",
       "      <td>Climbed</td>\n",
       "      <td>1961.0</td>\n",
       "      <td>New Zealand, USA, UK</td>\n",
       "      <td>AMAD61101</td>\n",
       "      <td>AMAD87401</td>\n",
       "      <td>Ama Dablam</td>\n",
       "      <td>...</td>\n",
       "      <td>6814.0</td>\n",
       "      <td>True</td>\n",
       "      <td>False</td>\n",
       "      <td>False</td>\n",
       "      <td>False</td>\n",
       "      <td>NaN</td>\n",
       "      <td>NaN</td>\n",
       "      <td>False</td>\n",
       "      <td>NaN</td>\n",
       "      <td>NaN</td>\n",
       "    </tr>\n",
       "  </tbody>\n",
       "</table>\n",
       "<p>5 rows × 43 columns</p>\n",
       "</div>"
      ],
      "text/plain": [
       "    peak_id_x peak_name_x peak_alternative_name  height_metres  \\\n",
       "24       AMAD  Ama Dablam          Amai Dablang           6814   \n",
       "34       AMAD  Ama Dablam          Amai Dablang           6814   \n",
       "45       AMAD  Ama Dablam          Amai Dablang           6814   \n",
       "61       AMAD  Ama Dablam          Amai Dablang           6814   \n",
       "177      AMAD  Ama Dablam          Amai Dablang           6814   \n",
       "\n",
       "    climbing_status  first_ascent_year  first_ascent_country  \\\n",
       "24          Climbed             1961.0  New Zealand, USA, UK   \n",
       "34          Climbed             1961.0  New Zealand, USA, UK   \n",
       "45          Climbed             1961.0  New Zealand, USA, UK   \n",
       "61          Climbed             1961.0  New Zealand, USA, UK   \n",
       "177         Climbed             1961.0  New Zealand, USA, UK   \n",
       "\n",
       "    first_ascent_expedition_id expedition_id peak_name_y  ...  \\\n",
       "24                   AMAD61101     AMAD88402  Ama Dablam  ...   \n",
       "34                   AMAD61101     AMAD83301  Ama Dablam  ...   \n",
       "45                   AMAD61101     AMAD83301  Ama Dablam  ...   \n",
       "61                   AMAD61101     AMAD83302  Ama Dablam  ...   \n",
       "177                  AMAD61101     AMAD87401  Ama Dablam  ...   \n",
       "\n",
       "     highpoint_metres_y success   solo oxygen_used_y   died death_cause  \\\n",
       "24               6814.0    True  False         False  False         NaN   \n",
       "34               6814.0    True  False         False  False         NaN   \n",
       "45               6814.0    True  False         False  False         NaN   \n",
       "61               6814.0    True  False         False  False         NaN   \n",
       "177              6814.0    True  False         False  False         NaN   \n",
       "\n",
       "     death_height_metres  injured  injury_type  injury_height_metres  \n",
       "24                   NaN    False          NaN                   NaN  \n",
       "34                   NaN    False          NaN                   NaN  \n",
       "45                   NaN    False          NaN                   NaN  \n",
       "61                   NaN    False          NaN                   NaN  \n",
       "177                  NaN    False          NaN                   NaN  \n",
       "\n",
       "[5 rows x 43 columns]"
      ]
     },
     "execution_count": 13,
     "metadata": {},
     "output_type": "execute_result"
    }
   ],
   "source": [
    "fem_climbed = nonhired[(nonhired[\"sex\"]==\"F\")&(nonhired[\"success\"]==True)]\n",
    "fem_climbed.head()"
   ]
  },
  {
   "cell_type": "code",
   "execution_count": 15,
   "id": "9d3e87a8",
   "metadata": {},
   "outputs": [
    {
     "data": {
      "text/html": [
       "<div>\n",
       "<style scoped>\n",
       "    .dataframe tbody tr th:only-of-type {\n",
       "        vertical-align: middle;\n",
       "    }\n",
       "\n",
       "    .dataframe tbody tr th {\n",
       "        vertical-align: top;\n",
       "    }\n",
       "\n",
       "    .dataframe thead th {\n",
       "        text-align: right;\n",
       "    }\n",
       "</style>\n",
       "<table border=\"1\" class=\"dataframe\">\n",
       "  <thead>\n",
       "    <tr style=\"text-align: right;\">\n",
       "      <th></th>\n",
       "      <th>peak_id_x</th>\n",
       "      <th>peak_name_x</th>\n",
       "      <th>peak_alternative_name</th>\n",
       "      <th>height_metres</th>\n",
       "      <th>climbing_status</th>\n",
       "      <th>first_ascent_year</th>\n",
       "      <th>first_ascent_country</th>\n",
       "      <th>first_ascent_expedition_id</th>\n",
       "      <th>expedition_id</th>\n",
       "      <th>peak_name_y</th>\n",
       "      <th>...</th>\n",
       "      <th>highpoint_metres_y</th>\n",
       "      <th>success</th>\n",
       "      <th>solo</th>\n",
       "      <th>oxygen_used_y</th>\n",
       "      <th>died</th>\n",
       "      <th>death_cause</th>\n",
       "      <th>death_height_metres</th>\n",
       "      <th>injured</th>\n",
       "      <th>injury_type</th>\n",
       "      <th>injury_height_metres</th>\n",
       "    </tr>\n",
       "  </thead>\n",
       "  <tbody>\n",
       "    <tr>\n",
       "      <th>73009</th>\n",
       "      <td>TENG</td>\n",
       "      <td>Tengkoma</td>\n",
       "      <td>Tang Kongma</td>\n",
       "      <td>6215</td>\n",
       "      <td>Climbed</td>\n",
       "      <td>1949.0</td>\n",
       "      <td>Switzerland, Nepal</td>\n",
       "      <td>TENG49101</td>\n",
       "      <td>TENG49101</td>\n",
       "      <td>Tengkoma</td>\n",
       "      <td>...</td>\n",
       "      <td>6215.0</td>\n",
       "      <td>True</td>\n",
       "      <td>False</td>\n",
       "      <td>False</td>\n",
       "      <td>False</td>\n",
       "      <td>NaN</td>\n",
       "      <td>NaN</td>\n",
       "      <td>False</td>\n",
       "      <td>NaN</td>\n",
       "      <td>NaN</td>\n",
       "    </tr>\n",
       "    <tr>\n",
       "      <th>73506</th>\n",
       "      <td>DZAN</td>\n",
       "      <td>Dzanye</td>\n",
       "      <td>Dzanaye</td>\n",
       "      <td>6581</td>\n",
       "      <td>Climbed</td>\n",
       "      <td>1949.0</td>\n",
       "      <td>Switzerland</td>\n",
       "      <td>DZAN49101</td>\n",
       "      <td>DZAN49101</td>\n",
       "      <td>Dzanye</td>\n",
       "      <td>...</td>\n",
       "      <td>6719.0</td>\n",
       "      <td>True</td>\n",
       "      <td>False</td>\n",
       "      <td>False</td>\n",
       "      <td>False</td>\n",
       "      <td>NaN</td>\n",
       "      <td>NaN</td>\n",
       "      <td>False</td>\n",
       "      <td>NaN</td>\n",
       "      <td>NaN</td>\n",
       "    </tr>\n",
       "  </tbody>\n",
       "</table>\n",
       "<p>2 rows × 43 columns</p>\n",
       "</div>"
      ],
      "text/plain": [
       "      peak_id_x peak_name_x peak_alternative_name  height_metres  \\\n",
       "73009      TENG    Tengkoma           Tang Kongma           6215   \n",
       "73506      DZAN      Dzanye               Dzanaye           6581   \n",
       "\n",
       "      climbing_status  first_ascent_year first_ascent_country  \\\n",
       "73009         Climbed             1949.0   Switzerland, Nepal   \n",
       "73506         Climbed             1949.0          Switzerland   \n",
       "\n",
       "      first_ascent_expedition_id expedition_id peak_name_y  ...  \\\n",
       "73009                  TENG49101     TENG49101    Tengkoma  ...   \n",
       "73506                  DZAN49101     DZAN49101      Dzanye  ...   \n",
       "\n",
       "       highpoint_metres_y success   solo oxygen_used_y   died death_cause  \\\n",
       "73009              6215.0    True  False         False  False         NaN   \n",
       "73506              6719.0    True  False         False  False         NaN   \n",
       "\n",
       "       death_height_metres  injured  injury_type  injury_height_metres  \n",
       "73009                  NaN    False          NaN                   NaN  \n",
       "73506                  NaN    False          NaN                   NaN  \n",
       "\n",
       "[2 rows x 43 columns]"
      ]
     },
     "execution_count": 15,
     "metadata": {},
     "output_type": "execute_result"
    }
   ],
   "source": [
    "first_wm = fem_climbed.nsmallest(1,\"year_y\", keep=\"all\")\n",
    "first_wm"
   ]
  },
  {
   "cell_type": "markdown",
   "id": "e4bc137b",
   "metadata": {},
   "source": [
    "Answer 3.b"
   ]
  },
  {
   "cell_type": "code",
   "execution_count": 18,
   "id": "1dd639c8",
   "metadata": {},
   "outputs": [
    {
     "data": {
      "text/plain": [
       "sex  died   success\n",
       "F    False  False      0.672291\n",
       "            True       0.327709\n",
       "     True   False      0.720000\n",
       "            True       0.280000\n",
       "M    False  False      0.610329\n",
       "            True       0.389671\n",
       "     True   False      0.787879\n",
       "            True       0.212121\n",
       "Name: success, dtype: float64"
      ]
     },
     "execution_count": 18,
     "metadata": {},
     "output_type": "execute_result"
    }
   ],
   "source": [
    "# Finding the proportion of success in summitting a main peak or sub-peak and participants who died \n",
    "ev_join = peaks_data.merge(expe_data, left_on = \"peak_id\", right_on = \"peak_id\").merge(memb_data, left_on = \"expedition_id\", right_on = \"expedition_id\")\n",
    "ev_join.groupby([\"sex\", \"died\"])[\"success\"].value_counts(normalize=True)"
   ]
  },
  {
   "cell_type": "markdown",
   "id": "7c78f969",
   "metadata": {},
   "source": [
    "# 4. Accidents"
   ]
  },
  {
   "cell_type": "code",
   "execution_count": 41,
   "id": "1e65f208",
   "metadata": {},
   "outputs": [
    {
     "ename": "AttributeError",
     "evalue": "'DataFrame' object has no attribute 'year_index'",
     "output_type": "error",
     "traceback": [
      "\u001b[0;31m---------------------------------------------------------------------------\u001b[0m",
      "\u001b[0;31mAttributeError\u001b[0m                            Traceback (most recent call last)",
      "Input \u001b[0;32mIn [41]\u001b[0m, in \u001b[0;36m<cell line: 6>\u001b[0;34m()\u001b[0m\n\u001b[1;32m      2\u001b[0m expe_data\u001b[38;5;241m.\u001b[39mindex \u001b[38;5;241m=\u001b[39m pd\u001b[38;5;241m.\u001b[39mto_datetime(expe_data\u001b[38;5;241m.\u001b[39mindex)\n\u001b[1;32m      3\u001b[0m year_index \u001b[38;5;241m=\u001b[39m expe_data\u001b[38;5;241m.\u001b[39mindex\u001b[38;5;241m.\u001b[39mto_period(\u001b[38;5;124m'\u001b[39m\u001b[38;5;124mY\u001b[39m\u001b[38;5;124m'\u001b[39m)\n\u001b[0;32m----> 6\u001b[0m df_decade \u001b[38;5;241m=\u001b[39m expe_data\u001b[38;5;241m.\u001b[39mgroupby(\u001b[43mexpe_data\u001b[49m\u001b[38;5;241;43m.\u001b[39;49m\u001b[43myear_index\u001b[49m\u001b[38;5;241m.\u001b[39myear)\u001b[38;5;241m.\u001b[39msum()\u001b[38;5;241m.\u001b[39mhead()\n\u001b[1;32m      8\u001b[0m df_decade\n",
      "File \u001b[0;32m~/opt/anaconda3/lib/python3.9/site-packages/pandas/core/generic.py:5575\u001b[0m, in \u001b[0;36mNDFrame.__getattr__\u001b[0;34m(self, name)\u001b[0m\n\u001b[1;32m   5568\u001b[0m \u001b[38;5;28;01mif\u001b[39;00m (\n\u001b[1;32m   5569\u001b[0m     name \u001b[38;5;129;01mnot\u001b[39;00m \u001b[38;5;129;01min\u001b[39;00m \u001b[38;5;28mself\u001b[39m\u001b[38;5;241m.\u001b[39m_internal_names_set\n\u001b[1;32m   5570\u001b[0m     \u001b[38;5;129;01mand\u001b[39;00m name \u001b[38;5;129;01mnot\u001b[39;00m \u001b[38;5;129;01min\u001b[39;00m \u001b[38;5;28mself\u001b[39m\u001b[38;5;241m.\u001b[39m_metadata\n\u001b[1;32m   5571\u001b[0m     \u001b[38;5;129;01mand\u001b[39;00m name \u001b[38;5;129;01mnot\u001b[39;00m \u001b[38;5;129;01min\u001b[39;00m \u001b[38;5;28mself\u001b[39m\u001b[38;5;241m.\u001b[39m_accessors\n\u001b[1;32m   5572\u001b[0m     \u001b[38;5;129;01mand\u001b[39;00m \u001b[38;5;28mself\u001b[39m\u001b[38;5;241m.\u001b[39m_info_axis\u001b[38;5;241m.\u001b[39m_can_hold_identifiers_and_holds_name(name)\n\u001b[1;32m   5573\u001b[0m ):\n\u001b[1;32m   5574\u001b[0m     \u001b[38;5;28;01mreturn\u001b[39;00m \u001b[38;5;28mself\u001b[39m[name]\n\u001b[0;32m-> 5575\u001b[0m \u001b[38;5;28;01mreturn\u001b[39;00m \u001b[38;5;28;43mobject\u001b[39;49m\u001b[38;5;241;43m.\u001b[39;49m\u001b[38;5;21;43m__getattribute__\u001b[39;49m\u001b[43m(\u001b[49m\u001b[38;5;28;43mself\u001b[39;49m\u001b[43m,\u001b[49m\u001b[43m \u001b[49m\u001b[43mname\u001b[49m\u001b[43m)\u001b[49m\n",
      "\u001b[0;31mAttributeError\u001b[0m: 'DataFrame' object has no attribute 'year_index'"
     ]
    }
   ],
   "source": [
    "#df_decade = expe_data.groupby(expe_data[\"year\"])\n",
    "\n",
    "expe_data.index = pd.to_datetime(expe_data.index)\n",
    "year_index = expe_data.index.to_period('Y')\n",
    "\n",
    "\n",
    "df_decade = expe_data.groupby(expe_data.year_index.year).sum().head()\n",
    "\n",
    "df_decade"
   ]
  },
  {
   "cell_type": "code",
   "execution_count": null,
   "id": "9efc120f",
   "metadata": {},
   "outputs": [],
   "source": []
  }
 ],
 "metadata": {
  "kernelspec": {
   "display_name": "Python 3 (ipykernel)",
   "language": "python",
   "name": "python3"
  },
  "language_info": {
   "codemirror_mode": {
    "name": "ipython",
    "version": 3
   },
   "file_extension": ".py",
   "mimetype": "text/x-python",
   "name": "python",
   "nbconvert_exporter": "python",
   "pygments_lexer": "ipython3",
   "version": "3.9.12"
  }
 },
 "nbformat": 4,
 "nbformat_minor": 5
}
